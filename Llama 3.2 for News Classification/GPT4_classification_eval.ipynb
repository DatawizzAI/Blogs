{
 "cells": [
  {
   "cell_type": "code",
   "execution_count": 2,
   "id": "d42c0ca2",
   "metadata": {
    "ExecuteTime": {
     "end_time": "2024-10-29T07:41:03.764959Z",
     "start_time": "2024-10-29T07:40:55.517676Z"
    }
   },
   "outputs": [
    {
     "name": "stdout",
     "output_type": "stream",
     "text": [
      "Collecting openai==0.28\n",
      "  Obtaining dependency information for openai==0.28 from https://files.pythonhosted.org/packages/ae/59/911d6e5f1d7514d79c527067643376cddcf4cb8d1728e599b3b03ab51c69/openai-0.28.0-py3-none-any.whl.metadata\n",
      "  Downloading openai-0.28.0-py3-none-any.whl.metadata (13 kB)\n",
      "Requirement already satisfied: requests>=2.20 in c:\\users\\sigal\\anaconda3\\lib\\site-packages (from openai==0.28) (2.32.3)\n",
      "Requirement already satisfied: tqdm in c:\\users\\sigal\\anaconda3\\lib\\site-packages (from openai==0.28) (4.66.6)\n",
      "Requirement already satisfied: aiohttp in c:\\users\\sigal\\anaconda3\\lib\\site-packages (from openai==0.28) (3.8.5)\n",
      "Requirement already satisfied: charset-normalizer<4,>=2 in c:\\users\\sigal\\anaconda3\\lib\\site-packages (from requests>=2.20->openai==0.28) (2.0.4)\n",
      "Requirement already satisfied: idna<4,>=2.5 in c:\\users\\sigal\\anaconda3\\lib\\site-packages (from requests>=2.20->openai==0.28) (3.4)\n",
      "Requirement already satisfied: urllib3<3,>=1.21.1 in c:\\users\\sigal\\anaconda3\\lib\\site-packages (from requests>=2.20->openai==0.28) (1.26.16)\n",
      "Requirement already satisfied: certifi>=2017.4.17 in c:\\users\\sigal\\anaconda3\\lib\\site-packages (from requests>=2.20->openai==0.28) (2023.7.22)\n",
      "Requirement already satisfied: attrs>=17.3.0 in c:\\users\\sigal\\anaconda3\\lib\\site-packages (from aiohttp->openai==0.28) (22.1.0)\n",
      "Requirement already satisfied: multidict<7.0,>=4.5 in c:\\users\\sigal\\anaconda3\\lib\\site-packages (from aiohttp->openai==0.28) (6.0.2)\n",
      "Requirement already satisfied: async-timeout<5.0,>=4.0.0a3 in c:\\users\\sigal\\anaconda3\\lib\\site-packages (from aiohttp->openai==0.28) (4.0.2)\n",
      "Requirement already satisfied: yarl<2.0,>=1.0 in c:\\users\\sigal\\anaconda3\\lib\\site-packages (from aiohttp->openai==0.28) (1.8.1)\n",
      "Requirement already satisfied: frozenlist>=1.1.1 in c:\\users\\sigal\\anaconda3\\lib\\site-packages (from aiohttp->openai==0.28) (1.3.3)\n",
      "Requirement already satisfied: aiosignal>=1.1.2 in c:\\users\\sigal\\anaconda3\\lib\\site-packages (from aiohttp->openai==0.28) (1.2.0)\n",
      "Requirement already satisfied: colorama in c:\\users\\sigal\\anaconda3\\lib\\site-packages (from tqdm->openai==0.28) (0.4.6)\n",
      "Downloading openai-0.28.0-py3-none-any.whl (76 kB)\n",
      "   ---------------------------------------- 0.0/76.5 kB ? eta -:--:--\n",
      "   ---------------- ----------------------- 30.7/76.5 kB 660.6 kB/s eta 0:00:01\n",
      "   ---------------------------------------- 76.5/76.5 kB 850.1 kB/s eta 0:00:00\n",
      "Installing collected packages: openai\n",
      "  Attempting uninstall: openai\n",
      "    Found existing installation: openai 1.52.2\n",
      "    Uninstalling openai-1.52.2:\n",
      "      Successfully uninstalled openai-1.52.2\n",
      "Successfully installed openai-0.28.0\n"
     ]
    },
    {
     "name": "stderr",
     "output_type": "stream",
     "text": [
      "ERROR: pip's dependency resolver does not currently take into account all the packages that are installed. This behaviour is the source of the following dependency conflicts.\n",
      "langchain-openai 0.0.5 requires langchain-core<0.2,>=0.1.16, but you have langchain-core 0.3.13 which is incompatible.\n",
      "langchain-openai 0.0.5 requires openai<2.0.0,>=1.10.0, but you have openai 0.28.0 which is incompatible.\n"
     ]
    }
   ],
   "source": [
    "!pip install openai==0.28"
   ]
  },
  {
   "cell_type": "code",
   "execution_count": 8,
   "id": "996bd7bd",
   "metadata": {
    "ExecuteTime": {
     "end_time": "2024-10-29T07:49:53.209404Z",
     "start_time": "2024-10-29T07:49:53.203829Z"
    }
   },
   "outputs": [],
   "source": [
    "# Install necessary libraries\n",
    "#!pip install openai datasets scikit-learn\n",
    "\n",
    "import openai\n",
    "import os\n",
    "from datasets import load_dataset\n",
    "from sklearn.metrics import accuracy_score, precision_recall_fscore_support\n",
    "from tqdm import tqdm  # For progress bar\n",
    "\n",
    "# Set your OpenAI API key\n",
    "openai.api_key = \"YOUR_OPENAI_API_KEY\"\n"
   ]
  },
  {
   "cell_type": "code",
   "execution_count": 18,
   "id": "fcb88ca8",
   "metadata": {
    "ExecuteTime": {
     "end_time": "2024-10-29T07:57:16.286045Z",
     "start_time": "2024-10-29T07:57:11.252029Z"
    }
   },
   "outputs": [],
   "source": [
    "# Load the AG News test dataset\n",
    "dataset = load_dataset(\"ag_news\", split='test')\n",
    "\n",
    "# Define label mappings\n",
    "id2label = {0: \"World\", 1: \"Sports\", 2: \"Business\", 3: \"Sci/Tech\"}\n",
    "label2id = {v: k for k, v in id2label.items()}\n",
    "\n",
    "# For demonstration purposes, we'll use a subset to limit API calls\n",
    "subset_size = 500  # Adjust this number as needed\n",
    "test_texts = dataset['text'][:subset_size]\n",
    "true_labels = dataset['label'][:subset_size]"
   ]
  },
  {
   "cell_type": "code",
   "execution_count": 19,
   "id": "b67d70fb",
   "metadata": {
    "ExecuteTime": {
     "end_time": "2024-10-29T07:57:18.189162Z",
     "start_time": "2024-10-29T07:57:18.184390Z"
    }
   },
   "outputs": [],
   "source": [
    "\n",
    "# Function to get GPT-4 classification\n",
    "def classify_text_with_gpt4(text):\n",
    "    prompt = f\"\"\"\n",
    "    Please classify the following news article into one of the following categories: World, Sports, Business, Sci/Tech.\n",
    "\n",
    "    Article:\n",
    "    \\\"\\\"\\\"\n",
    "    {text}\n",
    "    \\\"\\\"\\\"\n",
    "\n",
    "    Provide only the category name.\n",
    "    \"\"\"\n",
    "    try:\n",
    "        response = openai.ChatCompletion.create(\n",
    "            model=\"gpt-4\",\n",
    "            messages=[\n",
    "                {\"role\": \"user\", \"content\": prompt}\n",
    "            ],\n",
    "            temperature=0  # Set temperature to 0 for deterministic output\n",
    "        )\n",
    "\n",
    "        # Extract the assistant's reply\n",
    "        classification = response['choices'][0]['message']['content'].strip()\n",
    "        return classification\n",
    "    except Exception as e:\n",
    "        print(f\"Error: {e}\")\n",
    "        return None"
   ]
  },
  {
   "cell_type": "code",
   "execution_count": 20,
   "id": "87d860cd",
   "metadata": {
    "ExecuteTime": {
     "end_time": "2024-10-29T08:02:04.714461Z",
     "start_time": "2024-10-29T07:57:18.924694Z"
    }
   },
   "outputs": [
    {
     "name": "stderr",
     "output_type": "stream",
     "text": [
      "Processing samples:  70%|██████████████████████████████████████████                  | 351/500 [03:19<01:29,  1.66it/s]"
     ]
    },
    {
     "name": "stdout",
     "output_type": "stream",
     "text": [
      "Error: The server had an error processing your request. Sorry about that! You can retry your request, or contact us through our help center at help.openai.com if you keep seeing this error. (Please include the request ID req_7cc6afed08c50250bec41ee9118a3643 in your email.) {\n",
      "  \"error\": {\n",
      "    \"message\": \"The server had an error processing your request. Sorry about that! You can retry your request, or contact us through our help center at help.openai.com if you keep seeing this error. (Please include the request ID req_7cc6afed08c50250bec41ee9118a3643 in your email.)\",\n",
      "    \"type\": \"server_error\",\n",
      "    \"param\": null,\n",
      "    \"code\": null\n",
      "  }\n",
      "} 500 {'error': {'message': 'The server had an error processing your request. Sorry about that! You can retry your request, or contact us through our help center at help.openai.com if you keep seeing this error. (Please include the request ID req_7cc6afed08c50250bec41ee9118a3643 in your email.)', 'type': 'server_error', 'param': None, 'code': None}} {'Date': 'Tue, 29 Oct 2024 08:00:37 GMT', 'Content-Type': 'application/json', 'Content-Length': '369', 'Connection': 'keep-alive', 'access-control-expose-headers': 'X-Request-ID', 'openai-processing-ms': '67', 'x-ratelimit-limit-requests': '5000', 'x-ratelimit-limit-tokens': '80000', 'x-ratelimit-remaining-requests': '4999', 'x-ratelimit-remaining-tokens': '79888', 'x-ratelimit-reset-requests': '12ms', 'x-ratelimit-reset-tokens': '84ms', 'x-request-id': 'req_7cc6afed08c50250bec41ee9118a3643', 'strict-transport-security': 'max-age=31536000; includeSubDomains; preload', 'CF-Cache-Status': 'DYNAMIC', 'X-Content-Type-Options': 'nosniff', 'Server': 'cloudflare', 'CF-RAY': '8da1a20aed9294dc-HFA', 'alt-svc': 'h3=\":443\"; ma=86400'}\n"
     ]
    },
    {
     "name": "stderr",
     "output_type": "stream",
     "text": [
      "Processing samples: 100%|████████████████████████████████████████████████████████████| 500/500 [04:45<00:00,  1.75it/s]\n"
     ]
    }
   ],
   "source": [
    "# Initialize list to store GPT-4 predictions\n",
    "gpt4_predictions = []\n",
    "\n",
    "# Loop through test texts and get GPT-4 predictions\n",
    "for i, text in enumerate(tqdm(test_texts, desc=\"Processing samples\")):\n",
    "    predicted_label = classify_text_with_gpt4(text)\n",
    "    gpt4_predictions.append(predicted_label)"
   ]
  },
  {
   "cell_type": "code",
   "execution_count": 23,
   "id": "fc2ba17f",
   "metadata": {
    "ExecuteTime": {
     "end_time": "2024-10-29T08:02:12.944757Z",
     "start_time": "2024-10-29T08:02:12.934918Z"
    }
   },
   "outputs": [
    {
     "name": "stdout",
     "output_type": "stream",
     "text": [
      "\n",
      "Evaluation Results on 499 samples:\n",
      "Accuracy: 0.8717\n",
      "Precision: 0.8886\n",
      "Recall: 0.8717\n",
      "F1 Score: 0.8723\n"
     ]
    }
   ],
   "source": [
    "\n",
    "\n",
    "\n",
    "# Map GPT-4 predictions to label IDs\n",
    "predicted_label_ids = []\n",
    "for pred in gpt4_predictions:\n",
    "    if pred in label2id:\n",
    "        predicted_label_ids.append(label2id[pred])\n",
    "    else:\n",
    "        predicted_label_ids.append(-1)  # Use -1 for invalid predictions\n",
    "\n",
    "# Remove samples where GPT-4 did not provide a valid category\n",
    "valid_indices = [i for i, label_id in enumerate(predicted_label_ids) if label_id != -1]\n",
    "valid_true_labels = [true_labels[i] for i in valid_indices]\n",
    "valid_predicted_labels = [predicted_label_ids[i] for i in valid_indices]\n",
    "\n",
    "# Compute evaluation metrics\n",
    "precision, recall, f1, _ = precision_recall_fscore_support(\n",
    "    valid_true_labels, valid_predicted_labels, average='weighted'\n",
    ")\n",
    "acc = accuracy_score(valid_true_labels, valid_predicted_labels)\n",
    "\n",
    "print(f\"\\nEvaluation Results on {len(valid_true_labels)} samples:\")\n",
    "print(f\"Accuracy: {acc:.4f}\")\n",
    "print(f\"Precision: {precision:.4f}\")\n",
    "print(f\"Recall: {recall:.4f}\")\n",
    "print(f\"F1 Score: {f1:.4f}\")\n"
   ]
  },
  {
   "cell_type": "code",
   "execution_count": 24,
   "id": "df9d651d",
   "metadata": {
    "ExecuteTime": {
     "end_time": "2024-10-29T08:02:15.424919Z",
     "start_time": "2024-10-29T08:02:15.418892Z"
    }
   },
   "outputs": [
    {
     "data": {
      "text/plain": [
       "(500, 499)"
      ]
     },
     "execution_count": 24,
     "metadata": {},
     "output_type": "execute_result"
    }
   ],
   "source": [
    "len(gpt4_predictions),len(valid_indices)"
   ]
  }
 ],
 "metadata": {
  "kernelspec": {
   "display_name": "Python 3 (ipykernel)",
   "language": "python",
   "name": "python3"
  },
  "language_info": {
   "codemirror_mode": {
    "name": "ipython",
    "version": 3
   },
   "file_extension": ".py",
   "mimetype": "text/x-python",
   "name": "python",
   "nbconvert_exporter": "python",
   "pygments_lexer": "ipython3",
   "version": "3.11.5"
  }
 },
 "nbformat": 4,
 "nbformat_minor": 5
}
