{
  "nbformat": 4,
  "nbformat_minor": 0,
  "metadata": {
    "colab": {
      "provenance": []
    },
    "kernelspec": {
      "name": "python3",
      "display_name": "Python 3"
    },
    "language_info": {
      "name": "python"
    }
  },
  "cells": [
    {
      "cell_type": "code",
      "source": [
        "!pip install datasets\n",
        "!pip install rouge-score"
      ],
      "metadata": {
        "colab": {
          "base_uri": "https://localhost:8080/"
        },
        "id": "-BkwuBLzNnTL",
        "outputId": "6318bf9a-7d17-4d1d-a9a5-88d272d4858b"
      },
      "execution_count": null,
      "outputs": [
        {
          "output_type": "stream",
          "name": "stdout",
          "text": [
            "Requirement already satisfied: datasets in /usr/local/lib/python3.11/dist-packages (3.3.2)\n",
            "Requirement already satisfied: filelock in /usr/local/lib/python3.11/dist-packages (from datasets) (3.17.0)\n",
            "Requirement already satisfied: numpy>=1.17 in /usr/local/lib/python3.11/dist-packages (from datasets) (1.26.4)\n",
            "Requirement already satisfied: pyarrow>=15.0.0 in /usr/local/lib/python3.11/dist-packages (from datasets) (17.0.0)\n",
            "Requirement already satisfied: dill<0.3.9,>=0.3.0 in /usr/local/lib/python3.11/dist-packages (from datasets) (0.3.8)\n",
            "Requirement already satisfied: pandas in /usr/local/lib/python3.11/dist-packages (from datasets) (2.2.2)\n",
            "Requirement already satisfied: requests>=2.32.2 in /usr/local/lib/python3.11/dist-packages (from datasets) (2.32.3)\n",
            "Requirement already satisfied: tqdm>=4.66.3 in /usr/local/lib/python3.11/dist-packages (from datasets) (4.67.1)\n",
            "Requirement already satisfied: xxhash in /usr/local/lib/python3.11/dist-packages (from datasets) (3.5.0)\n",
            "Requirement already satisfied: multiprocess<0.70.17 in /usr/local/lib/python3.11/dist-packages (from datasets) (0.70.16)\n",
            "Requirement already satisfied: fsspec<=2024.12.0,>=2023.1.0 in /usr/local/lib/python3.11/dist-packages (from fsspec[http]<=2024.12.0,>=2023.1.0->datasets) (2024.10.0)\n",
            "Requirement already satisfied: aiohttp in /usr/local/lib/python3.11/dist-packages (from datasets) (3.11.12)\n",
            "Requirement already satisfied: huggingface-hub>=0.24.0 in /usr/local/lib/python3.11/dist-packages (from datasets) (0.28.1)\n",
            "Requirement already satisfied: packaging in /usr/local/lib/python3.11/dist-packages (from datasets) (24.2)\n",
            "Requirement already satisfied: pyyaml>=5.1 in /usr/local/lib/python3.11/dist-packages (from datasets) (6.0.2)\n",
            "Requirement already satisfied: aiohappyeyeballs>=2.3.0 in /usr/local/lib/python3.11/dist-packages (from aiohttp->datasets) (2.4.6)\n",
            "Requirement already satisfied: aiosignal>=1.1.2 in /usr/local/lib/python3.11/dist-packages (from aiohttp->datasets) (1.3.2)\n",
            "Requirement already satisfied: attrs>=17.3.0 in /usr/local/lib/python3.11/dist-packages (from aiohttp->datasets) (25.1.0)\n",
            "Requirement already satisfied: frozenlist>=1.1.1 in /usr/local/lib/python3.11/dist-packages (from aiohttp->datasets) (1.5.0)\n",
            "Requirement already satisfied: multidict<7.0,>=4.5 in /usr/local/lib/python3.11/dist-packages (from aiohttp->datasets) (6.1.0)\n",
            "Requirement already satisfied: propcache>=0.2.0 in /usr/local/lib/python3.11/dist-packages (from aiohttp->datasets) (0.2.1)\n",
            "Requirement already satisfied: yarl<2.0,>=1.17.0 in /usr/local/lib/python3.11/dist-packages (from aiohttp->datasets) (1.18.3)\n",
            "Requirement already satisfied: typing-extensions>=3.7.4.3 in /usr/local/lib/python3.11/dist-packages (from huggingface-hub>=0.24.0->datasets) (4.12.2)\n",
            "Requirement already satisfied: charset-normalizer<4,>=2 in /usr/local/lib/python3.11/dist-packages (from requests>=2.32.2->datasets) (3.4.1)\n",
            "Requirement already satisfied: idna<4,>=2.5 in /usr/local/lib/python3.11/dist-packages (from requests>=2.32.2->datasets) (3.10)\n",
            "Requirement already satisfied: urllib3<3,>=1.21.1 in /usr/local/lib/python3.11/dist-packages (from requests>=2.32.2->datasets) (2.3.0)\n",
            "Requirement already satisfied: certifi>=2017.4.17 in /usr/local/lib/python3.11/dist-packages (from requests>=2.32.2->datasets) (2025.1.31)\n",
            "Requirement already satisfied: python-dateutil>=2.8.2 in /usr/local/lib/python3.11/dist-packages (from pandas->datasets) (2.8.2)\n",
            "Requirement already satisfied: pytz>=2020.1 in /usr/local/lib/python3.11/dist-packages (from pandas->datasets) (2025.1)\n",
            "Requirement already satisfied: tzdata>=2022.7 in /usr/local/lib/python3.11/dist-packages (from pandas->datasets) (2025.1)\n",
            "Requirement already satisfied: six>=1.5 in /usr/local/lib/python3.11/dist-packages (from python-dateutil>=2.8.2->pandas->datasets) (1.17.0)\n",
            "Collecting rouge-score\n",
            "  Downloading rouge_score-0.1.2.tar.gz (17 kB)\n",
            "  Preparing metadata (setup.py) ... \u001b[?25l\u001b[?25hdone\n",
            "Requirement already satisfied: absl-py in /usr/local/lib/python3.11/dist-packages (from rouge-score) (1.4.0)\n",
            "Requirement already satisfied: nltk in /usr/local/lib/python3.11/dist-packages (from rouge-score) (3.9.1)\n",
            "Requirement already satisfied: numpy in /usr/local/lib/python3.11/dist-packages (from rouge-score) (1.26.4)\n",
            "Requirement already satisfied: six>=1.14.0 in /usr/local/lib/python3.11/dist-packages (from rouge-score) (1.17.0)\n",
            "Requirement already satisfied: click in /usr/local/lib/python3.11/dist-packages (from nltk->rouge-score) (8.1.8)\n",
            "Requirement already satisfied: joblib in /usr/local/lib/python3.11/dist-packages (from nltk->rouge-score) (1.4.2)\n",
            "Requirement already satisfied: regex>=2021.8.3 in /usr/local/lib/python3.11/dist-packages (from nltk->rouge-score) (2024.11.6)\n",
            "Requirement already satisfied: tqdm in /usr/local/lib/python3.11/dist-packages (from nltk->rouge-score) (4.67.1)\n",
            "Building wheels for collected packages: rouge-score\n",
            "  Building wheel for rouge-score (setup.py) ... \u001b[?25l\u001b[?25hdone\n",
            "  Created wheel for rouge-score: filename=rouge_score-0.1.2-py3-none-any.whl size=24935 sha256=2ead40fcd1683c6075313a9769af311ba4f0939bffac4811565c006d8e15721a\n",
            "  Stored in directory: /root/.cache/pip/wheels/1e/19/43/8a442dc83660ca25e163e1bd1f89919284ab0d0c1475475148\n",
            "Successfully built rouge-score\n",
            "Installing collected packages: rouge-score\n",
            "Successfully installed rouge-score-0.1.2\n"
          ]
        }
      ]
    },
    {
      "cell_type": "code",
      "execution_count": null,
      "metadata": {
        "colab": {
          "base_uri": "https://localhost:8080/"
        },
        "id": "ufaxlM9nMrAz",
        "outputId": "baf5c4ee-2047-404b-ff68-52029cd2cf6f"
      },
      "outputs": [
        {
          "output_type": "stream",
          "name": "stdout",
          "text": [
            "\n",
            "Sample 0:\n",
            "Q: Has Taylor Swift written songs for other artists?\n",
            "Reference: Yes, Taylor Swift has written songs for other artists. Some notable examples include This Is What You Came For by Calvin Harris featuring Rihanna, Better Man by Little Big Town, and You'll Always Find Your Way Back Home by Miley Cyrus.\n",
            "Response: Yes, Taylor Swift has written songs for other artists. Notably, she co-wrote \"This Is What You Came For\" by Calvin Harris featuring Rihanna under the pseudonym Nils Sjöberg. She also wrote \"Better Man\" for Little Big Town and \"Babe\" for Sugarland.\n",
            "ROUGE-L F1: 0.6353\n",
            "Inference Time: 5.8229 sec\n",
            "\n",
            "\n",
            "Sample 10:\n",
            "Q: What is the opinion of Sasha Frere-Jones of The New Yorker about Taylor Swift's performance?\n",
            "Reference: Sasha Frere-Jones of The New Yorker called Taylor Swift a \"preternaturally skilled\" performer with a vibrant stage presence.\n",
            "Response: Sasha Frere-Jones, a former music critic for *The New Yorker*, has offered mixed opinions about Taylor Swift's performances. While he has praised her songwriting skills and ability to craft catchy pop songs, he has been critical of her vocal abilities during live performances. Frere-Jones has suggested that her singing does not always match the strength of her songwriting, highlighting limitations in her vocal range and technique.\n",
            "ROUGE-L F1: 0.2273\n",
            "Inference Time: 9.3903 sec\n",
            "\n",
            "\n",
            "Sample 20:\n",
            "Q: What award did Taylor Swift win for the song \"Better Man\"?\n",
            "Reference: Taylor Swift won the Song of the Year award at the 51st CMA Awards for the song \"Better Man\".\n",
            "Response: Taylor Swift won the 2017 CMA Award for Song of the Year for writing \"Better Man.\"\n",
            "ROUGE-L F1: 0.6286\n",
            "Inference Time: 7.1963 sec\n",
            "\n",
            "\n",
            "Sample 30:\n",
            "Q: \"What is the best way for a loyal millenial fan to purchase tickets for Taylor Swift's Reputation concert?\", \"What is the best way for loyal millenial fans to purchase tickets for Taylor Swift’s Reputation concert?\", \"How can loyal millenial fans purchase tickets for Taylor Swift’’s Reputation concert?\".\n",
            "Reference: The best way for a loyal millennial fan to purchase tickets for the Taylor Swift Reputation concert is to sign up for Taylor Swift's official fan club, TS6. TS6 members are given priority access to tickets before they go on sale to the general public. Additionally, TS6 members are also given access to exclusive merchandise and experiences.\n",
            "Another way to purchase tickets for the Taylor swift Reputation concert is to use a reputable ticket selling website such as Ticketmaster or SeatGeek. These websites offer a wide range of tickets for the concert and provide a secure platform for purchasing tickets.\n",
            "It is also important to be aware of ticket scams\n",
            "Response: Taylor Swift's **Reputation Stadium Tour** took place in 2018 and has concluded, so tickets are no longer available. However, you can experience the concert by watching the *Taylor Swift Reputation Stadium Tour* concert film on Netflix. For future tours, keep an eye on her official website and reputable ticket vendors like Ticketmaster for announcements and ticket sales.\n",
            "ROUGE-L F1: 0.2012\n",
            "Inference Time: 33.2209 sec\n",
            "\n",
            "\n",
            "Sample 40:\n",
            "Q: How many albums has Taylor Swift released?\n",
            "Reference: Taylor Swift has released 10 original studio albums, 3 re-recorded studio albums, 5 extended plays, and 4 live albums.\n",
            "Response: As of October 2023, Taylor Swift has released 13 studio albums.\n",
            "ROUGE-L F1: 0.3871\n",
            "Inference Time: 12.9088 sec\n",
            "\n",
            "\n",
            "Sample 50:\n",
            "Q: What is the controversy surrounding Taylor Swift's subscription service for her fans? How does this affect avid Taylor Swift fans who are subscribed to the service?\n",
            "Reference: Taylor Swift's subscription service, called Taylor Swift NOW, has been the subject of controversy since its launch in August 2020. The service, which costs $9.99 per month, offers exclusive content and experiences to fans, including live streams, behind-the-scenes footage, and access to a private fan community. However, some fans have criticized the service for being too expensive and for not offering enough value for the price. Additionally, some fans have expressed frustration with the service's technical issues, including glitches and slow loading times. Despite these criticisms, many avid Taylor Swift fans have remained subscribed to the service, citing the exclusive content and experiences as worth the cost. However, some fans have expressed concern\n",
            "Response: As of my knowledge cutoff in October 2023, there is no widely reported controversy surrounding a subscription service offered by Taylor Swift to her fans. Taylor Swift engages with her fans through album releases, merchandise, and social media, but she does not have a formal subscription service that has been the subject of controversy. If you're referring to issues like ticket sales challenges or merchandise disputes, those are separate matters affecting fans but are not related to a subscription service.\n",
            "ROUGE-L F1: 0.1508\n",
            "Inference Time: 18.8466 sec\n",
            "\n",
            "\n",
            "Sample 60:\n",
            "Q: What is Taylor Swift's age?\n",
            "Reference: Taylor Swift is 31 years old.\n",
            "Response: As of October 2023, Taylor Swift is 33 years old.\n",
            "ROUGE-L F1: 0.6250\n",
            "Inference Time: 16.3087 sec\n",
            "\n",
            "\n",
            "Sample 70:\n",
            "Q: How many albums has Taylor Swift sold in the US as of 2019?\n",
            "Reference: Taylor Swift has sold over 37.3 million albums in the US as of 2019.\n",
            "Response: As of 2019, Taylor Swift has sold over 32 million albums in the United States.\n",
            "ROUGE-L F1: 0.6000\n",
            "Inference Time: 5.0268 sec\n",
            "\n",
            "\n",
            "Sample 80:\n",
            "Q: How much did Taylor Swift's masters, videos and artworks sell for?\n",
            "Reference: Taylor Swift's masters, videos and artworks sold for a reported $300 million.\n",
            "Response: Taylor Swift's masters, music videos, and artworks were sold by Scooter Braun's Ithaca Holdings to Shamrock Capital in November 2020 for a reported sum of around **$300 million**.\n",
            "ROUGE-L F1: 0.6047\n",
            "Inference Time: 17.5261 sec\n",
            "\n",
            "\n",
            "===== Final Results =====\n",
            "Average ROUGE-L F1 score: 0.3295\n",
            "Average inference time per response: 15.4833 sec\n"
          ]
        }
      ],
      "source": [
        "import openai\n",
        "import time\n",
        "import numpy as np\n",
        "from datasets import load_dataset\n",
        "from rouge_score import rouge_scorer\n",
        "\n",
        "# OpenAI API Key (replace with your actual key)\n",
        "OPENAI_API_KEY = \"your-openai-api-key\"\n",
        "\n",
        "# Initialize OpenAI client\n",
        "client = openai.Client(api_key=OPENAI_API_KEY)\n",
        "\n",
        "# Load test dataset\n",
        "dataset_name = \"lamini/taylor_swift\"\n",
        "test_dataset = load_dataset(dataset_name, split=\"test\")\n",
        "\n",
        "# Define system message as part of the user prompt (since `o1-preview` does not support system messages)\n",
        "SYSTEM_PROMPT = \"\"\"You are a Taylor Swift expert. Answer CORRECTLY and CONCISELY questions about Taylor Swift's life, achievements, songs, and more.\"\"\"\n",
        "\n",
        "# Initialize ROUGE scorer\n",
        "scorer = rouge_scorer.RougeScorer(['rougeL'], use_stemmer=True)\n",
        "\n",
        "# Function to generate responses using OpenAI's `o1-preview`\n",
        "def generate_response_openai(prompt):\n",
        "    \"\"\"Generates a response using OpenAI's `o1-preview` model.\"\"\"\n",
        "    start_time = time.time()  # Start timer\n",
        "\n",
        "    full_prompt = f\"{SYSTEM_PROMPT}\\n\\n{prompt}\"  # Concatenate system message to user input\n",
        "\n",
        "    try:\n",
        "        response = client.chat.completions.create(\n",
        "            model=\"o1-preview\",\n",
        "            messages=[{\"role\": \"user\", \"content\": full_prompt}],\n",
        "            #max_completion_tokens=200  # Corrected parameter name\n",
        "        )\n",
        "        generated_text = response.choices[0].message.content.strip()\n",
        "        inference_time = time.time() - start_time  # Measure inference time\n",
        "        return generated_text, inference_time\n",
        "\n",
        "    except Exception as e:\n",
        "        print(f\"Error generating response: {e}\")\n",
        "        return \"\", 10.0  # Assign default long inference time in case of failure\n",
        "\n",
        "# Evaluate on test set\n",
        "total_rouge_l = []\n",
        "inference_times = []\n",
        "\n",
        "for i, sample in enumerate(test_dataset):\n",
        "    prompt = sample[\"question\"]\n",
        "    reference_answer = sample[\"answer\"]\n",
        "\n",
        "    generated_response, inference_time = generate_response_openai(prompt)\n",
        "\n",
        "    # Compute ROUGE-L score\n",
        "    rouge_scores = scorer.score(reference_answer, generated_response)\n",
        "    rouge_l_f1 = rouge_scores['rougeL'].fmeasure\n",
        "\n",
        "    # Store scores and time\n",
        "    total_rouge_l.append(rouge_l_f1)\n",
        "    inference_times.append(inference_time)\n",
        "\n",
        "    # Print sample results every 10 examples\n",
        "    if i % 10 == 0:\n",
        "        print(f\"\\nSample {i}:\")\n",
        "        print(f\"Q: {prompt}\")\n",
        "        print(f\"Reference: {reference_answer}\")\n",
        "        print(f\"Response: {generated_response}\")\n",
        "        print(f\"ROUGE-L F1: {rouge_l_f1:.4f}\")\n",
        "        print(f\"Inference Time: {inference_time:.4f} sec\\n\")\n",
        "\n",
        "# Compute final metrics\n",
        "average_rouge_l = np.mean(total_rouge_l)\n",
        "average_inference_time = np.mean(inference_times)\n",
        "\n",
        "print(f\"\\n===== Final Results =====\")\n",
        "print(f\"Average ROUGE-L F1 score: {average_rouge_l:.4f}\")\n",
        "print(f\"Average inference time per response: {average_inference_time:.4f} sec\")"
      ]
    },
    {
      "cell_type": "code",
      "source": [
        "===== Final Results =====\n",
        "Average ROUGE-L F1 score: 0.3295\n",
        "Average inference time per response: 15.4833 sec"
      ],
      "metadata": {
        "colab": {
          "base_uri": "https://localhost:8080/",
          "height": 36
        },
        "id": "CbejUForPp64",
        "outputId": "a5f2ba8c-77d2-4e99-84f0-31610173bb9b"
      },
      "execution_count": null,
      "outputs": [
        {
          "output_type": "execute_result",
          "data": {
            "text/plain": [
              "''"
            ],
            "application/vnd.google.colaboratory.intrinsic+json": {
              "type": "string"
            }
          },
          "metadata": {},
          "execution_count": 11
        }
      ]
    },
    {
      "cell_type": "code",
      "source": [],
      "metadata": {
        "id": "o0L_IICwPtG1"
      },
      "execution_count": null,
      "outputs": []
    }
  ]
}
